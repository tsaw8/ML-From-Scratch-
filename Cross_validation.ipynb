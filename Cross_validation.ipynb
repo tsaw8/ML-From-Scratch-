{
 "cells": [
  {
   "cell_type": "markdown",
   "metadata": {},
   "source": [
    "# Implement Resampling Methods From Scratch in Python\n",
    "\n",
    "## Description \n",
    "The goal of resampling methods is to make the best use of your training data in order to accurately estimate the performance of a model on new unseen data.\n",
    "\n",
    "Accurate estimates of performance can then be used to help you choose which set of model parameters to use or which model to select.\n",
    "\n",
    "Once you have chosen a model, you can train for final model on the entire training dataset and start using it to make predictions.\n",
    "\n",
    "There are two common resampling methods that you can use:\n",
    "\n",
    "* A train and test split of your data.\n",
    "* k-fold cross validation.\n",
    "\n",
    "In this notebook, we will implement both resampling methods from scatch. [Source](https://machinelearningmastery.com/implement-resampling-methods-scratch-python/)"
   ]
  },
  {
   "cell_type": "code",
   "execution_count": 1,
   "metadata": {},
   "outputs": [],
   "source": [
    "# Imports \n",
    "from random import randrange\n",
    "from random import seed "
   ]
  },
  {
   "cell_type": "markdown",
   "metadata": {},
   "source": [
    "## Train and Test Split \n",
    "First, we will create a function to split the dataset into a 80% train and 20% test set. "
   ]
  },
  {
   "cell_type": "code",
   "execution_count": 2,
   "metadata": {},
   "outputs": [],
   "source": [
    "# Split a dataset into a train and test set\n",
    "def train_test_split(df, split=0.8):\n",
    "    train = list()\n",
    "    train_size = split * len(df)\n",
    "    dataset_copy = list(df)\n",
    "    while len(train) < train_size:\n",
    "        index = randrange(len(dataset_copy))\n",
    "        train.append(dataset_copy.pop(index))\n",
    "    return train, dataset_copy"
   ]
  },
  {
   "cell_type": "code",
   "execution_count": 3,
   "metadata": {},
   "outputs": [
    {
     "name": "stdout",
     "output_type": "stream",
     "text": [
      "[[3], [2], [7], [1], [8], [9], [10], [6]]\n",
      "[[4], [5]]\n"
     ]
    }
   ],
   "source": [
    "# Test train/test split \n",
    "seed(1)\n",
    "dataset = [[1],[2],[3],[4],[5],[6],[7],[8],[9],[10]]\n",
    "train, test = train_test_split(dataset)\n",
    "print(train)\n",
    "print(test)"
   ]
  },
  {
   "cell_type": "markdown",
   "metadata": {},
   "source": [
    "## K-fold Cross Validation Split \n",
    "A limitation of using the train and test split method is that you get a noisy estimate of algorithm performance.\n",
    "\n",
    "The k-fold cross validation method (also called just cross validation) is a resampling method that provides a more accurate estimate of algorithm performance.\n",
    "\n",
    "It does this by first splitting the data into k groups. The algorithm is then trained and evaluated k times and the performance summarized by taking the mean performance score. Each group of data is called a fold, hence the name k-fold cross-validation."
   ]
  },
  {
   "cell_type": "code",
   "execution_count": 6,
   "metadata": {},
   "outputs": [],
   "source": [
    "# Split a dataset into k folds\n",
    "def cross_validation_split(df, folds=3):\n",
    "    dataset_split = list()\n",
    "    dataset_copy = list(dataset)\n",
    "    fold_size = int(len(dataset)/folds)\n",
    "    for i in range(folds):\n",
    "        fold = list()\n",
    "        while len(fold) < fold_size:\n",
    "            index = randrange(len(dataset_copy))\n",
    "            fold.append(dataset_copy.pop(index))\n",
    "        dataset_split.append(fold)\n",
    "    return dataset_split"
   ]
  },
  {
   "cell_type": "code",
   "execution_count": 7,
   "metadata": {},
   "outputs": [
    {
     "name": "stdout",
     "output_type": "stream",
     "text": [
      "[[[3], [2]], [[7], [1]], [[8], [9]], [[10], [6]]]\n"
     ]
    }
   ],
   "source": [
    "# test cross validation split\n",
    "seed(1)\n",
    "dataset = [[1], [2], [3], [4], [5], [6], [7], [8], [9], [10]]\n",
    "folds = cross_validation_split(dataset, 4)\n",
    "print(folds)"
   ]
  }
 ],
 "metadata": {
  "kernelspec": {
   "display_name": "Python 3",
   "language": "python",
   "name": "python3"
  },
  "language_info": {
   "codemirror_mode": {
    "name": "ipython",
    "version": 3
   },
   "file_extension": ".py",
   "mimetype": "text/x-python",
   "name": "python",
   "nbconvert_exporter": "python",
   "pygments_lexer": "ipython3",
   "version": "3.6.8"
  }
 },
 "nbformat": 4,
 "nbformat_minor": 2
}
